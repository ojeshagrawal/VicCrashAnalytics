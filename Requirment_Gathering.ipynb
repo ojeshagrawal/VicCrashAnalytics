{
  "nbformat": 4,
  "nbformat_minor": 0,
  "metadata": {
    "colab": {
      "provenance": []
    },
    "kernelspec": {
      "name": "python3",
      "display_name": "Python 3"
    },
    "language_info": {
      "name": "python"
    }
  },
  "cells": [
    {
      "cell_type": "markdown",
      "metadata": {
        "id": "view-in-github"
      },
      "source": [
        "<a href=\"https://colab.research.google.com/github/thuc-github/MIS710-T12023/blob/main/A1/MIS710%20A1%20Template%20T1%202023.ipynb\" target=\"_parent\"><img src=\"https://colab.research.google.com/assets/colab-badge.svg\" alt=\"Open In Colab\"/></a>"
      ]
    },
    {
      "cell_type": "markdown",
      "source": [
        "# Project: Vic Crash Analytics"
      ],
      "metadata": {
        "id": "x-ROo9Wdf7Mc"
      }
    },
    {
      "cell_type": "markdown",
      "source": [
        "<a id = \"cell_exploration\"></a>\n",
        "##Data understanding, preparation, explorations and visualisation\n"
      ],
      "metadata": {
        "id": "hcm5p3hygdpr"
      }
    },
    {
      "cell_type": "code",
      "source": [
        "# Loading the (lib) required libraries\n",
        "#for data manipulation\n",
        "import pandas as pd\n",
        "#for arrays\n",
        "import numpy as np\n",
        "#for visualization\n",
        "import matplotlib.pyplot as plt\n",
        "import seaborn as sns\n",
        "\n",
        "#Importing the classifier which is decision tree\n",
        "from sklearn.tree import DecisionTreeClassifier\n",
        "from sklearn.model_selection import train_test_split\n",
        "from sklearn import metrics\n",
        "\n",
        "from sklearn.linear_model import LogisticRegression\n",
        "from sklearn.model_selection import train_test_split # testing and split function\n",
        "from sklearn import metrics #for evaluation of the model\n",
        "from sklearn.metrics import precision_recall_curve, precision_recall_curve, classification_report\n",
        "from sklearn.metrics import classification_report, confusion_matrix\n",
        "\n",
        "# Load data from CloudDeakin (Drive)\n",
        "from google.colab import drive\n",
        "drive.mount('/content/drive')\n",
        "\n",
        "# loading dataset any name can be used, here I am using recods.\n",
        "records = pd.read_csv(\"/content/drive/MyDrive/Colab Notebooks/A1/Blackspot.csv\")\n",
        "\n",
        "#looking at dataset\n",
        "print(records)\n",
        "\n"
      ],
      "metadata": {
        "id": "UDA6ok0rn5QU",
        "colab": {
          "base_uri": "https://localhost:8080/"
        },
        "outputId": "52a102e1-13f7-42b4-d9d0-53e8d8c98425"
      },
      "execution_count": null,
      "outputs": [
        {
          "output_type": "stream",
          "name": "stdout",
          "text": [
            "Drive already mounted at /content/drive; to attempt to forcibly remount, call drive.mount(\"/content/drive\", force_remount=True).\n",
            "        ID               EZI_ROAD_NAME              ROAD_NAME ROAD_TYPE  \\\n",
            "0     3699                  GROVE ROAD                  GROVE      ROAD   \n",
            "1      576          BACCHUS MARSH ROAD          BACCHUS MARSH      ROAD   \n",
            "2      758                GRUBBED ROAD                GRUBBED      ROAD   \n",
            "3       89                VIGOR STREET                  VIGOR    STREET   \n",
            "4     8773                FAIRMAN ROAD                FAIRMAN      ROAD   \n",
            "...    ...                         ...                    ...       ...   \n",
            "5321   256  WARBURTON-WOODS POINT ROAD  WARBURTON-WOODS POINT      ROAD   \n",
            "5322  5182             GLENELG HIGHWAY                GLENELG   HIGHWAY   \n",
            "5323  4196          CAPE PATERSON ROAD          CAPE PATERSON      ROAD   \n",
            "5324  4352                MCPHANS ROAD                MCPHANS      ROAD   \n",
            "5325   223                 ROGERS ROAD                 ROGERS      ROAD   \n",
            "\n",
            "      AGE_LESS_THAN_15YRS_PCNT  AGE_15_24YRS_PCNT  AGE_25_44YRS_PCNT  \\\n",
            "0                     0.121988           0.058735           0.228916   \n",
            "1                     0.215894           0.141722           0.312583   \n",
            "2                     0.185304           0.102236           0.194888   \n",
            "3                     0.167763           0.062500           0.286184   \n",
            "4                     0.201238           0.108359           0.204334   \n",
            "...                        ...                ...                ...   \n",
            "5321                  0.152047           0.087719           0.198830   \n",
            "5322                  0.142119           0.090439           0.209302   \n",
            "5323                  0.163701           0.106762           0.170819   \n",
            "5324                  0.155039           0.173127           0.129199   \n",
            "5325                  0.197647           0.129412           0.200000   \n",
            "\n",
            "      AGE_45_64YRS_PCNT  AGE_18YRS_OVER_PCNT  AGE_65YRS_OVER_PCNT  ...  \\\n",
            "0              0.269578             0.853916             0.320783  ...   \n",
            "1              0.201325             0.741722             0.128477  ...   \n",
            "2              0.348243             0.757188             0.169329  ...   \n",
            "3              0.322368             0.815789             0.161184  ...   \n",
            "4              0.340557             0.761610             0.145511  ...   \n",
            "...                 ...                  ...                  ...  ...   \n",
            "5321           0.385965             0.812865             0.175439  ...   \n",
            "5322           0.328165             0.816537             0.229974  ...   \n",
            "5323           0.352313             0.779359             0.206406  ...   \n",
            "5324           0.310078             0.806202             0.232558  ...   \n",
            "5325           0.301176             0.764706             0.171765  ...   \n",
            "\n",
            "      Parkland%  Primary_Production%  Lq_Licenses      Intersection  \\\n",
            "0      0.358321             0.000000         14.0  non-Intersection   \n",
            "1      0.000000             1.000000          0.0      Intersection   \n",
            "2      1.000000             0.000000          0.0  non-Intersection   \n",
            "3      0.036599             0.000000          0.0  non-Intersection   \n",
            "4      0.000000             1.000000          0.0  non-Intersection   \n",
            "...         ...                  ...          ...               ...   \n",
            "5321   1.000000             0.000000          0.0  non-Intersection   \n",
            "5322   0.000000             0.155542          0.0  non-Intersection   \n",
            "5323   0.000000             1.000000          0.0  non-Intersection   \n",
            "5324   0.000000             1.000000          0.0  non-Intersection   \n",
            "5325   0.000000             1.000000          0.0  non-Intersection   \n",
            "\n",
            "      Supermarket  primary_school  secondary_school  km_post  traffic_signal  \\\n",
            "0               0               0                 0        0               0   \n",
            "1               0               0                 0        1               0   \n",
            "2               0               0                 0        0               0   \n",
            "3               0               0                 0        0               0   \n",
            "4               0               0                 0        0               0   \n",
            "...           ...             ...               ...      ...             ...   \n",
            "5321            0               0                 0        1               0   \n",
            "5322            0               0                 0        0               0   \n",
            "5323            0               0                 0        1               0   \n",
            "5324            0               0                 0        0               0   \n",
            "5325            0               0                 0        0               0   \n",
            "\n",
            "          Blackspot  \n",
            "0         Blackspot  \n",
            "1         Blackspot  \n",
            "2     non-Blackspot  \n",
            "3     non-Blackspot  \n",
            "4     non-Blackspot  \n",
            "...             ...  \n",
            "5321  non-Blackspot  \n",
            "5322  non-Blackspot  \n",
            "5323  non-Blackspot  \n",
            "5324  non-Blackspot  \n",
            "5325  non-Blackspot  \n",
            "\n",
            "[5326 rows x 36 columns]\n"
          ]
        }
      ]
    }
  ]
}