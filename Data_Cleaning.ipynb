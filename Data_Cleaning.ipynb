{
  "nbformat": 4,
  "nbformat_minor": 0,
  "metadata": {
    "colab": {
      "provenance": []
    },
    "kernelspec": {
      "name": "python3",
      "display_name": "Python 3"
    },
    "language_info": {
      "name": "python"
    }
  },
  "cells": [
    {
      "cell_type": "markdown",
      "metadata": {
        "id": "view-in-github"
      },
      "source": [
        "<a href=\"https://colab.research.google.com/github/thuc-github/MIS710-T12023/blob/main/A1/MIS710%20A1%20Template%20T1%202023.ipynb\" target=\"_parent\"><img src=\"https://colab.research.google.com/assets/colab-badge.svg\" alt=\"Open In Colab\"/></a>"
      ]
    },
    {
      "cell_type": "code",
      "source": [
        "#To Fill in the missing data using mean because it is numerical type if it were to be categorical we would have used mode\n",
        "records['AGE_65YRS_OVER_PCNT'].fillna(records['AGE_65YRS_OVER_PCNT'].mean(),inplace=True)\n",
        "records['Lq_Licenses'].fillna(records['Lq_Licenses'].mean(),inplace=True)"
      ],
      "metadata": {
        "id": "0xQltih6UfRZ"
      },
      "execution_count": null,
      "outputs": []
    },
    {
      "cell_type": "code",
      "source": [
        "#getting the output after substitution of the values\n",
        "print(records.isnull().sum())"
      ],
      "metadata": {
        "colab": {
          "base_uri": "https://localhost:8080/"
        },
        "id": "ONEF896XdBT8",
        "outputId": "12a5bcfc-67d8-461c-c786-5dfc2322093d"
      },
      "execution_count": null,
      "outputs": [
        {
          "output_type": "stream",
          "name": "stdout",
          "text": [
            "ID                                 0\n",
            "EZI_ROAD_NAME                      0\n",
            "ROAD_NAME                          0\n",
            "ROAD_TYPE                          0\n",
            "AGE_LESS_THAN_15YRS_PCNT           0\n",
            "AGE_15_24YRS_PCNT                  0\n",
            "AGE_25_44YRS_PCNT                  0\n",
            "AGE_45_64YRS_PCNT                  0\n",
            "AGE_18YRS_OVER_PCNT                0\n",
            "AGE_65YRS_OVER_PCNT                0\n",
            "SEO_PERSONS_PCNT                   0\n",
            "FC_COUPLE_NO_CHILDREN_PCNT         0\n",
            "FC_COUPLE_WITH_CHILDREN_PCNT       0\n",
            "FC_SINGLE_PARENT                   0\n",
            "CARS_ZERO_HH_PCNT                  0\n",
            "CARS_ONE_HH_PCNT                   0\n",
            "CARS_TWO_OR_MORE_HH_PCNT           0\n",
            "DWELLING_SEP_HOUSE_PCNT            0\n",
            "DWELLING_SEMID_RO_OR_TCE_H_TH_P    0\n",
            "DWELLING_FLAT_UNIT_APART_PCNT      0\n",
            "OCCUPATION_WHITE_COLLAR_PCNT       0\n",
            "OCCUPATION_BLUE_COLLAR_PCNT        0\n",
            "SEIFA                              0\n",
            "Commercial%                        0\n",
            "Industrial%                        0\n",
            "Residential%                       0\n",
            "Parkland%                          0\n",
            "Primary_Production%                0\n",
            "Lq_Licenses                        0\n",
            "Intersection                       0\n",
            "Supermarket                        0\n",
            "primary_school                     0\n",
            "secondary_school                   0\n",
            "km_post                            0\n",
            "traffic_signal                     0\n",
            "Blackspot                          0\n",
            "dtype: int64\n"
          ]
        }
      ]
    },
    {
      "cell_type": "code",
      "source": [
        "#exploring the variables, Road type feature has 6 categories\n",
        "records.ROAD_TYPE.value_counts()"
      ],
      "metadata": {
        "colab": {
          "base_uri": "https://localhost:8080/"
        },
        "id": "kytuWk4BSDkM",
        "outputId": "e7955a4f-09dd-40f3-d255-466ec5cf3cec"
      },
      "execution_count": null,
      "outputs": [
        {
          "output_type": "execute_result",
          "data": {
            "text/plain": [
              "ROAD       3400\n",
              "STREET     1324\n",
              "DRIVE       295\n",
              "HIGHWAY     180\n",
              "WAY          77\n",
              "FREEWAY      50\n",
              "Name: ROAD_TYPE, dtype: int64"
            ]
          },
          "metadata": {},
          "execution_count": 81
        }
      ]
    },
    {
      "cell_type": "code",
      "source": [
        "#intersection feature has 2 categories\n",
        "records.Intersection.value_counts()"
      ],
      "metadata": {
        "colab": {
          "base_uri": "https://localhost:8080/"
        },
        "id": "a6gpI4QHTqMf",
        "outputId": "9c317e37-f6a2-4937-b81b-94b15b495daa"
      },
      "execution_count": null,
      "outputs": [
        {
          "output_type": "execute_result",
          "data": {
            "text/plain": [
              "non-Intersection    4659\n",
              "Intersection         667\n",
              "Name: Intersection, dtype: int64"
            ]
          },
          "metadata": {},
          "execution_count": 19
        }
      ]
    }
  ]
}